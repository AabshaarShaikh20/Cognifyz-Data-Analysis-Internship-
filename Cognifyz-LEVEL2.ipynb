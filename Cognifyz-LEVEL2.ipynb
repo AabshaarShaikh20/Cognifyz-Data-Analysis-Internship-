{
 "cells": [
  {
   "cell_type": "markdown",
   "id": "028ef012",
   "metadata": {},
   "source": [
    "# Cognifyz Internship"
   ]
  },
  {
   "cell_type": "code",
   "execution_count": null,
   "id": "3eb0bf38",
   "metadata": {},
   "outputs": [],
   "source": []
  },
  {
   "cell_type": "code",
   "execution_count": 1,
   "id": "2cd46f9c",
   "metadata": {},
   "outputs": [],
   "source": [
    "import pandas as pd"
   ]
  },
  {
   "cell_type": "code",
   "execution_count": 2,
   "id": "916464bd",
   "metadata": {},
   "outputs": [
    {
     "data": {
      "text/html": [
       "<div>\n",
       "<style scoped>\n",
       "    .dataframe tbody tr th:only-of-type {\n",
       "        vertical-align: middle;\n",
       "    }\n",
       "\n",
       "    .dataframe tbody tr th {\n",
       "        vertical-align: top;\n",
       "    }\n",
       "\n",
       "    .dataframe thead th {\n",
       "        text-align: right;\n",
       "    }\n",
       "</style>\n",
       "<table border=\"1\" class=\"dataframe\">\n",
       "  <thead>\n",
       "    <tr style=\"text-align: right;\">\n",
       "      <th></th>\n",
       "      <th>Restaurant ID</th>\n",
       "      <th>Restaurant Name</th>\n",
       "      <th>Country Code</th>\n",
       "      <th>City</th>\n",
       "      <th>Address</th>\n",
       "      <th>Locality</th>\n",
       "      <th>Locality Verbose</th>\n",
       "      <th>Longitude</th>\n",
       "      <th>Latitude</th>\n",
       "      <th>Cuisines</th>\n",
       "      <th>...</th>\n",
       "      <th>Currency</th>\n",
       "      <th>Has Table booking</th>\n",
       "      <th>Has Online delivery</th>\n",
       "      <th>Is delivering now</th>\n",
       "      <th>Switch to order menu</th>\n",
       "      <th>Price range</th>\n",
       "      <th>Aggregate rating</th>\n",
       "      <th>Rating color</th>\n",
       "      <th>Rating text</th>\n",
       "      <th>Votes</th>\n",
       "    </tr>\n",
       "  </thead>\n",
       "  <tbody>\n",
       "    <tr>\n",
       "      <th>0</th>\n",
       "      <td>6317637</td>\n",
       "      <td>Le Petit Souffle</td>\n",
       "      <td>162</td>\n",
       "      <td>Makati City</td>\n",
       "      <td>Third Floor, Century City Mall, Kalayaan Avenu...</td>\n",
       "      <td>Century City Mall, Poblacion, Makati City</td>\n",
       "      <td>Century City Mall, Poblacion, Makati City, Mak...</td>\n",
       "      <td>121.027535</td>\n",
       "      <td>14.565443</td>\n",
       "      <td>French, Japanese, Desserts</td>\n",
       "      <td>...</td>\n",
       "      <td>Botswana Pula(P)</td>\n",
       "      <td>Yes</td>\n",
       "      <td>No</td>\n",
       "      <td>No</td>\n",
       "      <td>No</td>\n",
       "      <td>3</td>\n",
       "      <td>4.8</td>\n",
       "      <td>Dark Green</td>\n",
       "      <td>Excellent</td>\n",
       "      <td>314</td>\n",
       "    </tr>\n",
       "    <tr>\n",
       "      <th>1</th>\n",
       "      <td>6304287</td>\n",
       "      <td>Izakaya Kikufuji</td>\n",
       "      <td>162</td>\n",
       "      <td>Makati City</td>\n",
       "      <td>Little Tokyo, 2277 Chino Roces Avenue, Legaspi...</td>\n",
       "      <td>Little Tokyo, Legaspi Village, Makati City</td>\n",
       "      <td>Little Tokyo, Legaspi Village, Makati City, Ma...</td>\n",
       "      <td>121.014101</td>\n",
       "      <td>14.553708</td>\n",
       "      <td>Japanese</td>\n",
       "      <td>...</td>\n",
       "      <td>Botswana Pula(P)</td>\n",
       "      <td>Yes</td>\n",
       "      <td>No</td>\n",
       "      <td>No</td>\n",
       "      <td>No</td>\n",
       "      <td>3</td>\n",
       "      <td>4.5</td>\n",
       "      <td>Dark Green</td>\n",
       "      <td>Excellent</td>\n",
       "      <td>591</td>\n",
       "    </tr>\n",
       "    <tr>\n",
       "      <th>2</th>\n",
       "      <td>6300002</td>\n",
       "      <td>Heat - Edsa Shangri-La</td>\n",
       "      <td>162</td>\n",
       "      <td>Mandaluyong City</td>\n",
       "      <td>Edsa Shangri-La, 1 Garden Way, Ortigas, Mandal...</td>\n",
       "      <td>Edsa Shangri-La, Ortigas, Mandaluyong City</td>\n",
       "      <td>Edsa Shangri-La, Ortigas, Mandaluyong City, Ma...</td>\n",
       "      <td>121.056831</td>\n",
       "      <td>14.581404</td>\n",
       "      <td>Seafood, Asian, Filipino, Indian</td>\n",
       "      <td>...</td>\n",
       "      <td>Botswana Pula(P)</td>\n",
       "      <td>Yes</td>\n",
       "      <td>No</td>\n",
       "      <td>No</td>\n",
       "      <td>No</td>\n",
       "      <td>4</td>\n",
       "      <td>4.4</td>\n",
       "      <td>Green</td>\n",
       "      <td>Very Good</td>\n",
       "      <td>270</td>\n",
       "    </tr>\n",
       "    <tr>\n",
       "      <th>3</th>\n",
       "      <td>6318506</td>\n",
       "      <td>Ooma</td>\n",
       "      <td>162</td>\n",
       "      <td>Mandaluyong City</td>\n",
       "      <td>Third Floor, Mega Fashion Hall, SM Megamall, O...</td>\n",
       "      <td>SM Megamall, Ortigas, Mandaluyong City</td>\n",
       "      <td>SM Megamall, Ortigas, Mandaluyong City, Mandal...</td>\n",
       "      <td>121.056475</td>\n",
       "      <td>14.585318</td>\n",
       "      <td>Japanese, Sushi</td>\n",
       "      <td>...</td>\n",
       "      <td>Botswana Pula(P)</td>\n",
       "      <td>No</td>\n",
       "      <td>No</td>\n",
       "      <td>No</td>\n",
       "      <td>No</td>\n",
       "      <td>4</td>\n",
       "      <td>4.9</td>\n",
       "      <td>Dark Green</td>\n",
       "      <td>Excellent</td>\n",
       "      <td>365</td>\n",
       "    </tr>\n",
       "    <tr>\n",
       "      <th>4</th>\n",
       "      <td>6314302</td>\n",
       "      <td>Sambo Kojin</td>\n",
       "      <td>162</td>\n",
       "      <td>Mandaluyong City</td>\n",
       "      <td>Third Floor, Mega Atrium, SM Megamall, Ortigas...</td>\n",
       "      <td>SM Megamall, Ortigas, Mandaluyong City</td>\n",
       "      <td>SM Megamall, Ortigas, Mandaluyong City, Mandal...</td>\n",
       "      <td>121.057508</td>\n",
       "      <td>14.584450</td>\n",
       "      <td>Japanese, Korean</td>\n",
       "      <td>...</td>\n",
       "      <td>Botswana Pula(P)</td>\n",
       "      <td>Yes</td>\n",
       "      <td>No</td>\n",
       "      <td>No</td>\n",
       "      <td>No</td>\n",
       "      <td>4</td>\n",
       "      <td>4.8</td>\n",
       "      <td>Dark Green</td>\n",
       "      <td>Excellent</td>\n",
       "      <td>229</td>\n",
       "    </tr>\n",
       "    <tr>\n",
       "      <th>...</th>\n",
       "      <td>...</td>\n",
       "      <td>...</td>\n",
       "      <td>...</td>\n",
       "      <td>...</td>\n",
       "      <td>...</td>\n",
       "      <td>...</td>\n",
       "      <td>...</td>\n",
       "      <td>...</td>\n",
       "      <td>...</td>\n",
       "      <td>...</td>\n",
       "      <td>...</td>\n",
       "      <td>...</td>\n",
       "      <td>...</td>\n",
       "      <td>...</td>\n",
       "      <td>...</td>\n",
       "      <td>...</td>\n",
       "      <td>...</td>\n",
       "      <td>...</td>\n",
       "      <td>...</td>\n",
       "      <td>...</td>\n",
       "      <td>...</td>\n",
       "    </tr>\n",
       "    <tr>\n",
       "      <th>9546</th>\n",
       "      <td>5915730</td>\n",
       "      <td>Naml۱ Gurme</td>\n",
       "      <td>208</td>\n",
       "      <td>��stanbul</td>\n",
       "      <td>Kemanke�� Karamustafa Pa��a Mahallesi, R۱ht۱m ...</td>\n",
       "      <td>Karak�_y</td>\n",
       "      <td>Karak�_y, ��stanbul</td>\n",
       "      <td>28.977392</td>\n",
       "      <td>41.022793</td>\n",
       "      <td>Turkish</td>\n",
       "      <td>...</td>\n",
       "      <td>Turkish Lira(TL)</td>\n",
       "      <td>No</td>\n",
       "      <td>No</td>\n",
       "      <td>No</td>\n",
       "      <td>No</td>\n",
       "      <td>3</td>\n",
       "      <td>4.1</td>\n",
       "      <td>Green</td>\n",
       "      <td>Very Good</td>\n",
       "      <td>788</td>\n",
       "    </tr>\n",
       "    <tr>\n",
       "      <th>9547</th>\n",
       "      <td>5908749</td>\n",
       "      <td>Ceviz A��ac۱</td>\n",
       "      <td>208</td>\n",
       "      <td>��stanbul</td>\n",
       "      <td>Ko��uyolu Mahallesi, Muhittin ��st�_nda�� Cadd...</td>\n",
       "      <td>Ko��uyolu</td>\n",
       "      <td>Ko��uyolu, ��stanbul</td>\n",
       "      <td>29.041297</td>\n",
       "      <td>41.009847</td>\n",
       "      <td>World Cuisine, Patisserie, Cafe</td>\n",
       "      <td>...</td>\n",
       "      <td>Turkish Lira(TL)</td>\n",
       "      <td>No</td>\n",
       "      <td>No</td>\n",
       "      <td>No</td>\n",
       "      <td>No</td>\n",
       "      <td>3</td>\n",
       "      <td>4.2</td>\n",
       "      <td>Green</td>\n",
       "      <td>Very Good</td>\n",
       "      <td>1034</td>\n",
       "    </tr>\n",
       "    <tr>\n",
       "      <th>9548</th>\n",
       "      <td>5915807</td>\n",
       "      <td>Huqqa</td>\n",
       "      <td>208</td>\n",
       "      <td>��stanbul</td>\n",
       "      <td>Kuru�_e��me Mahallesi, Muallim Naci Caddesi, N...</td>\n",
       "      <td>Kuru�_e��me</td>\n",
       "      <td>Kuru�_e��me, ��stanbul</td>\n",
       "      <td>29.034640</td>\n",
       "      <td>41.055817</td>\n",
       "      <td>Italian, World Cuisine</td>\n",
       "      <td>...</td>\n",
       "      <td>Turkish Lira(TL)</td>\n",
       "      <td>No</td>\n",
       "      <td>No</td>\n",
       "      <td>No</td>\n",
       "      <td>No</td>\n",
       "      <td>4</td>\n",
       "      <td>3.7</td>\n",
       "      <td>Yellow</td>\n",
       "      <td>Good</td>\n",
       "      <td>661</td>\n",
       "    </tr>\n",
       "    <tr>\n",
       "      <th>9549</th>\n",
       "      <td>5916112</td>\n",
       "      <td>A���k Kahve</td>\n",
       "      <td>208</td>\n",
       "      <td>��stanbul</td>\n",
       "      <td>Kuru�_e��me Mahallesi, Muallim Naci Caddesi, N...</td>\n",
       "      <td>Kuru�_e��me</td>\n",
       "      <td>Kuru�_e��me, ��stanbul</td>\n",
       "      <td>29.036019</td>\n",
       "      <td>41.057979</td>\n",
       "      <td>Restaurant Cafe</td>\n",
       "      <td>...</td>\n",
       "      <td>Turkish Lira(TL)</td>\n",
       "      <td>No</td>\n",
       "      <td>No</td>\n",
       "      <td>No</td>\n",
       "      <td>No</td>\n",
       "      <td>4</td>\n",
       "      <td>4.0</td>\n",
       "      <td>Green</td>\n",
       "      <td>Very Good</td>\n",
       "      <td>901</td>\n",
       "    </tr>\n",
       "    <tr>\n",
       "      <th>9550</th>\n",
       "      <td>5927402</td>\n",
       "      <td>Walter's Coffee Roastery</td>\n",
       "      <td>208</td>\n",
       "      <td>��stanbul</td>\n",
       "      <td>Cafea��a Mahallesi, Bademalt۱ Sokak, No 21/B, ...</td>\n",
       "      <td>Moda</td>\n",
       "      <td>Moda, ��stanbul</td>\n",
       "      <td>29.026016</td>\n",
       "      <td>40.984776</td>\n",
       "      <td>Cafe</td>\n",
       "      <td>...</td>\n",
       "      <td>Turkish Lira(TL)</td>\n",
       "      <td>No</td>\n",
       "      <td>No</td>\n",
       "      <td>No</td>\n",
       "      <td>No</td>\n",
       "      <td>2</td>\n",
       "      <td>4.0</td>\n",
       "      <td>Green</td>\n",
       "      <td>Very Good</td>\n",
       "      <td>591</td>\n",
       "    </tr>\n",
       "  </tbody>\n",
       "</table>\n",
       "<p>9551 rows × 21 columns</p>\n",
       "</div>"
      ],
      "text/plain": [
       "      Restaurant ID           Restaurant Name  Country Code              City  \\\n",
       "0           6317637          Le Petit Souffle           162       Makati City   \n",
       "1           6304287          Izakaya Kikufuji           162       Makati City   \n",
       "2           6300002    Heat - Edsa Shangri-La           162  Mandaluyong City   \n",
       "3           6318506                      Ooma           162  Mandaluyong City   \n",
       "4           6314302               Sambo Kojin           162  Mandaluyong City   \n",
       "...             ...                       ...           ...               ...   \n",
       "9546        5915730               Naml۱ Gurme           208         ��stanbul   \n",
       "9547        5908749              Ceviz A��ac۱           208         ��stanbul   \n",
       "9548        5915807                     Huqqa           208         ��stanbul   \n",
       "9549        5916112               A���k Kahve           208         ��stanbul   \n",
       "9550        5927402  Walter's Coffee Roastery           208         ��stanbul   \n",
       "\n",
       "                                                Address  \\\n",
       "0     Third Floor, Century City Mall, Kalayaan Avenu...   \n",
       "1     Little Tokyo, 2277 Chino Roces Avenue, Legaspi...   \n",
       "2     Edsa Shangri-La, 1 Garden Way, Ortigas, Mandal...   \n",
       "3     Third Floor, Mega Fashion Hall, SM Megamall, O...   \n",
       "4     Third Floor, Mega Atrium, SM Megamall, Ortigas...   \n",
       "...                                                 ...   \n",
       "9546  Kemanke�� Karamustafa Pa��a Mahallesi, R۱ht۱m ...   \n",
       "9547  Ko��uyolu Mahallesi, Muhittin ��st�_nda�� Cadd...   \n",
       "9548  Kuru�_e��me Mahallesi, Muallim Naci Caddesi, N...   \n",
       "9549  Kuru�_e��me Mahallesi, Muallim Naci Caddesi, N...   \n",
       "9550  Cafea��a Mahallesi, Bademalt۱ Sokak, No 21/B, ...   \n",
       "\n",
       "                                        Locality  \\\n",
       "0      Century City Mall, Poblacion, Makati City   \n",
       "1     Little Tokyo, Legaspi Village, Makati City   \n",
       "2     Edsa Shangri-La, Ortigas, Mandaluyong City   \n",
       "3         SM Megamall, Ortigas, Mandaluyong City   \n",
       "4         SM Megamall, Ortigas, Mandaluyong City   \n",
       "...                                          ...   \n",
       "9546                                    Karak�_y   \n",
       "9547                                   Ko��uyolu   \n",
       "9548                                 Kuru�_e��me   \n",
       "9549                                 Kuru�_e��me   \n",
       "9550                                        Moda   \n",
       "\n",
       "                                       Locality Verbose   Longitude  \\\n",
       "0     Century City Mall, Poblacion, Makati City, Mak...  121.027535   \n",
       "1     Little Tokyo, Legaspi Village, Makati City, Ma...  121.014101   \n",
       "2     Edsa Shangri-La, Ortigas, Mandaluyong City, Ma...  121.056831   \n",
       "3     SM Megamall, Ortigas, Mandaluyong City, Mandal...  121.056475   \n",
       "4     SM Megamall, Ortigas, Mandaluyong City, Mandal...  121.057508   \n",
       "...                                                 ...         ...   \n",
       "9546                                Karak�_y, ��stanbul   28.977392   \n",
       "9547                               Ko��uyolu, ��stanbul   29.041297   \n",
       "9548                             Kuru�_e��me, ��stanbul   29.034640   \n",
       "9549                             Kuru�_e��me, ��stanbul   29.036019   \n",
       "9550                                    Moda, ��stanbul   29.026016   \n",
       "\n",
       "       Latitude                          Cuisines  ...          Currency  \\\n",
       "0     14.565443        French, Japanese, Desserts  ...  Botswana Pula(P)   \n",
       "1     14.553708                          Japanese  ...  Botswana Pula(P)   \n",
       "2     14.581404  Seafood, Asian, Filipino, Indian  ...  Botswana Pula(P)   \n",
       "3     14.585318                   Japanese, Sushi  ...  Botswana Pula(P)   \n",
       "4     14.584450                  Japanese, Korean  ...  Botswana Pula(P)   \n",
       "...         ...                               ...  ...               ...   \n",
       "9546  41.022793                           Turkish  ...  Turkish Lira(TL)   \n",
       "9547  41.009847   World Cuisine, Patisserie, Cafe  ...  Turkish Lira(TL)   \n",
       "9548  41.055817            Italian, World Cuisine  ...  Turkish Lira(TL)   \n",
       "9549  41.057979                   Restaurant Cafe  ...  Turkish Lira(TL)   \n",
       "9550  40.984776                              Cafe  ...  Turkish Lira(TL)   \n",
       "\n",
       "     Has Table booking Has Online delivery Is delivering now  \\\n",
       "0                  Yes                  No                No   \n",
       "1                  Yes                  No                No   \n",
       "2                  Yes                  No                No   \n",
       "3                   No                  No                No   \n",
       "4                  Yes                  No                No   \n",
       "...                ...                 ...               ...   \n",
       "9546                No                  No                No   \n",
       "9547                No                  No                No   \n",
       "9548                No                  No                No   \n",
       "9549                No                  No                No   \n",
       "9550                No                  No                No   \n",
       "\n",
       "     Switch to order menu Price range  Aggregate rating  Rating color  \\\n",
       "0                      No           3               4.8    Dark Green   \n",
       "1                      No           3               4.5    Dark Green   \n",
       "2                      No           4               4.4         Green   \n",
       "3                      No           4               4.9    Dark Green   \n",
       "4                      No           4               4.8    Dark Green   \n",
       "...                   ...         ...               ...           ...   \n",
       "9546                   No           3               4.1         Green   \n",
       "9547                   No           3               4.2         Green   \n",
       "9548                   No           4               3.7        Yellow   \n",
       "9549                   No           4               4.0         Green   \n",
       "9550                   No           2               4.0         Green   \n",
       "\n",
       "     Rating text Votes  \n",
       "0      Excellent   314  \n",
       "1      Excellent   591  \n",
       "2      Very Good   270  \n",
       "3      Excellent   365  \n",
       "4      Excellent   229  \n",
       "...          ...   ...  \n",
       "9546   Very Good   788  \n",
       "9547   Very Good  1034  \n",
       "9548        Good   661  \n",
       "9549   Very Good   901  \n",
       "9550   Very Good   591  \n",
       "\n",
       "[9551 rows x 21 columns]"
      ]
     },
     "execution_count": 2,
     "metadata": {},
     "output_type": "execute_result"
    }
   ],
   "source": [
    "df = pd.read_csv(r'C:\\Users\\Aabshaar\\Downloads\\Dataset .csv')\n",
    "df"
   ]
  },
  {
   "cell_type": "code",
   "execution_count": null,
   "id": "27dbed8f",
   "metadata": {},
   "outputs": [],
   "source": []
  },
  {
   "cell_type": "code",
   "execution_count": null,
   "id": "1654c5ec",
   "metadata": {},
   "outputs": [],
   "source": []
  },
  {
   "cell_type": "markdown",
   "id": "2f96f19f",
   "metadata": {},
   "source": [
    "## Data Size"
   ]
  },
  {
   "cell_type": "code",
   "execution_count": 3,
   "id": "1604dda4",
   "metadata": {},
   "outputs": [
    {
     "data": {
      "text/plain": [
       "(9551, 21)"
      ]
     },
     "execution_count": 3,
     "metadata": {},
     "output_type": "execute_result"
    }
   ],
   "source": [
    "df.shape"
   ]
  },
  {
   "cell_type": "code",
   "execution_count": null,
   "id": "8fde5bda",
   "metadata": {},
   "outputs": [],
   "source": []
  },
  {
   "cell_type": "markdown",
   "id": "6a2bc015",
   "metadata": {},
   "source": [
    "## Data Preview"
   ]
  },
  {
   "cell_type": "code",
   "execution_count": 4,
   "id": "508a163c",
   "metadata": {},
   "outputs": [
    {
     "data": {
      "text/html": [
       "<div>\n",
       "<style scoped>\n",
       "    .dataframe tbody tr th:only-of-type {\n",
       "        vertical-align: middle;\n",
       "    }\n",
       "\n",
       "    .dataframe tbody tr th {\n",
       "        vertical-align: top;\n",
       "    }\n",
       "\n",
       "    .dataframe thead th {\n",
       "        text-align: right;\n",
       "    }\n",
       "</style>\n",
       "<table border=\"1\" class=\"dataframe\">\n",
       "  <thead>\n",
       "    <tr style=\"text-align: right;\">\n",
       "      <th></th>\n",
       "      <th>Restaurant ID</th>\n",
       "      <th>Restaurant Name</th>\n",
       "      <th>Country Code</th>\n",
       "      <th>City</th>\n",
       "      <th>Address</th>\n",
       "      <th>Locality</th>\n",
       "      <th>Locality Verbose</th>\n",
       "      <th>Longitude</th>\n",
       "      <th>Latitude</th>\n",
       "      <th>Cuisines</th>\n",
       "      <th>...</th>\n",
       "      <th>Currency</th>\n",
       "      <th>Has Table booking</th>\n",
       "      <th>Has Online delivery</th>\n",
       "      <th>Is delivering now</th>\n",
       "      <th>Switch to order menu</th>\n",
       "      <th>Price range</th>\n",
       "      <th>Aggregate rating</th>\n",
       "      <th>Rating color</th>\n",
       "      <th>Rating text</th>\n",
       "      <th>Votes</th>\n",
       "    </tr>\n",
       "  </thead>\n",
       "  <tbody>\n",
       "    <tr>\n",
       "      <th>0</th>\n",
       "      <td>6317637</td>\n",
       "      <td>Le Petit Souffle</td>\n",
       "      <td>162</td>\n",
       "      <td>Makati City</td>\n",
       "      <td>Third Floor, Century City Mall, Kalayaan Avenu...</td>\n",
       "      <td>Century City Mall, Poblacion, Makati City</td>\n",
       "      <td>Century City Mall, Poblacion, Makati City, Mak...</td>\n",
       "      <td>121.027535</td>\n",
       "      <td>14.565443</td>\n",
       "      <td>French, Japanese, Desserts</td>\n",
       "      <td>...</td>\n",
       "      <td>Botswana Pula(P)</td>\n",
       "      <td>Yes</td>\n",
       "      <td>No</td>\n",
       "      <td>No</td>\n",
       "      <td>No</td>\n",
       "      <td>3</td>\n",
       "      <td>4.8</td>\n",
       "      <td>Dark Green</td>\n",
       "      <td>Excellent</td>\n",
       "      <td>314</td>\n",
       "    </tr>\n",
       "    <tr>\n",
       "      <th>1</th>\n",
       "      <td>6304287</td>\n",
       "      <td>Izakaya Kikufuji</td>\n",
       "      <td>162</td>\n",
       "      <td>Makati City</td>\n",
       "      <td>Little Tokyo, 2277 Chino Roces Avenue, Legaspi...</td>\n",
       "      <td>Little Tokyo, Legaspi Village, Makati City</td>\n",
       "      <td>Little Tokyo, Legaspi Village, Makati City, Ma...</td>\n",
       "      <td>121.014101</td>\n",
       "      <td>14.553708</td>\n",
       "      <td>Japanese</td>\n",
       "      <td>...</td>\n",
       "      <td>Botswana Pula(P)</td>\n",
       "      <td>Yes</td>\n",
       "      <td>No</td>\n",
       "      <td>No</td>\n",
       "      <td>No</td>\n",
       "      <td>3</td>\n",
       "      <td>4.5</td>\n",
       "      <td>Dark Green</td>\n",
       "      <td>Excellent</td>\n",
       "      <td>591</td>\n",
       "    </tr>\n",
       "    <tr>\n",
       "      <th>2</th>\n",
       "      <td>6300002</td>\n",
       "      <td>Heat - Edsa Shangri-La</td>\n",
       "      <td>162</td>\n",
       "      <td>Mandaluyong City</td>\n",
       "      <td>Edsa Shangri-La, 1 Garden Way, Ortigas, Mandal...</td>\n",
       "      <td>Edsa Shangri-La, Ortigas, Mandaluyong City</td>\n",
       "      <td>Edsa Shangri-La, Ortigas, Mandaluyong City, Ma...</td>\n",
       "      <td>121.056831</td>\n",
       "      <td>14.581404</td>\n",
       "      <td>Seafood, Asian, Filipino, Indian</td>\n",
       "      <td>...</td>\n",
       "      <td>Botswana Pula(P)</td>\n",
       "      <td>Yes</td>\n",
       "      <td>No</td>\n",
       "      <td>No</td>\n",
       "      <td>No</td>\n",
       "      <td>4</td>\n",
       "      <td>4.4</td>\n",
       "      <td>Green</td>\n",
       "      <td>Very Good</td>\n",
       "      <td>270</td>\n",
       "    </tr>\n",
       "    <tr>\n",
       "      <th>3</th>\n",
       "      <td>6318506</td>\n",
       "      <td>Ooma</td>\n",
       "      <td>162</td>\n",
       "      <td>Mandaluyong City</td>\n",
       "      <td>Third Floor, Mega Fashion Hall, SM Megamall, O...</td>\n",
       "      <td>SM Megamall, Ortigas, Mandaluyong City</td>\n",
       "      <td>SM Megamall, Ortigas, Mandaluyong City, Mandal...</td>\n",
       "      <td>121.056475</td>\n",
       "      <td>14.585318</td>\n",
       "      <td>Japanese, Sushi</td>\n",
       "      <td>...</td>\n",
       "      <td>Botswana Pula(P)</td>\n",
       "      <td>No</td>\n",
       "      <td>No</td>\n",
       "      <td>No</td>\n",
       "      <td>No</td>\n",
       "      <td>4</td>\n",
       "      <td>4.9</td>\n",
       "      <td>Dark Green</td>\n",
       "      <td>Excellent</td>\n",
       "      <td>365</td>\n",
       "    </tr>\n",
       "    <tr>\n",
       "      <th>4</th>\n",
       "      <td>6314302</td>\n",
       "      <td>Sambo Kojin</td>\n",
       "      <td>162</td>\n",
       "      <td>Mandaluyong City</td>\n",
       "      <td>Third Floor, Mega Atrium, SM Megamall, Ortigas...</td>\n",
       "      <td>SM Megamall, Ortigas, Mandaluyong City</td>\n",
       "      <td>SM Megamall, Ortigas, Mandaluyong City, Mandal...</td>\n",
       "      <td>121.057508</td>\n",
       "      <td>14.584450</td>\n",
       "      <td>Japanese, Korean</td>\n",
       "      <td>...</td>\n",
       "      <td>Botswana Pula(P)</td>\n",
       "      <td>Yes</td>\n",
       "      <td>No</td>\n",
       "      <td>No</td>\n",
       "      <td>No</td>\n",
       "      <td>4</td>\n",
       "      <td>4.8</td>\n",
       "      <td>Dark Green</td>\n",
       "      <td>Excellent</td>\n",
       "      <td>229</td>\n",
       "    </tr>\n",
       "  </tbody>\n",
       "</table>\n",
       "<p>5 rows × 21 columns</p>\n",
       "</div>"
      ],
      "text/plain": [
       "   Restaurant ID         Restaurant Name  Country Code              City  \\\n",
       "0        6317637        Le Petit Souffle           162       Makati City   \n",
       "1        6304287        Izakaya Kikufuji           162       Makati City   \n",
       "2        6300002  Heat - Edsa Shangri-La           162  Mandaluyong City   \n",
       "3        6318506                    Ooma           162  Mandaluyong City   \n",
       "4        6314302             Sambo Kojin           162  Mandaluyong City   \n",
       "\n",
       "                                             Address  \\\n",
       "0  Third Floor, Century City Mall, Kalayaan Avenu...   \n",
       "1  Little Tokyo, 2277 Chino Roces Avenue, Legaspi...   \n",
       "2  Edsa Shangri-La, 1 Garden Way, Ortigas, Mandal...   \n",
       "3  Third Floor, Mega Fashion Hall, SM Megamall, O...   \n",
       "4  Third Floor, Mega Atrium, SM Megamall, Ortigas...   \n",
       "\n",
       "                                     Locality  \\\n",
       "0   Century City Mall, Poblacion, Makati City   \n",
       "1  Little Tokyo, Legaspi Village, Makati City   \n",
       "2  Edsa Shangri-La, Ortigas, Mandaluyong City   \n",
       "3      SM Megamall, Ortigas, Mandaluyong City   \n",
       "4      SM Megamall, Ortigas, Mandaluyong City   \n",
       "\n",
       "                                    Locality Verbose   Longitude   Latitude  \\\n",
       "0  Century City Mall, Poblacion, Makati City, Mak...  121.027535  14.565443   \n",
       "1  Little Tokyo, Legaspi Village, Makati City, Ma...  121.014101  14.553708   \n",
       "2  Edsa Shangri-La, Ortigas, Mandaluyong City, Ma...  121.056831  14.581404   \n",
       "3  SM Megamall, Ortigas, Mandaluyong City, Mandal...  121.056475  14.585318   \n",
       "4  SM Megamall, Ortigas, Mandaluyong City, Mandal...  121.057508  14.584450   \n",
       "\n",
       "                           Cuisines  ...          Currency Has Table booking  \\\n",
       "0        French, Japanese, Desserts  ...  Botswana Pula(P)               Yes   \n",
       "1                          Japanese  ...  Botswana Pula(P)               Yes   \n",
       "2  Seafood, Asian, Filipino, Indian  ...  Botswana Pula(P)               Yes   \n",
       "3                   Japanese, Sushi  ...  Botswana Pula(P)                No   \n",
       "4                  Japanese, Korean  ...  Botswana Pula(P)               Yes   \n",
       "\n",
       "  Has Online delivery Is delivering now Switch to order menu Price range  \\\n",
       "0                  No                No                   No           3   \n",
       "1                  No                No                   No           3   \n",
       "2                  No                No                   No           4   \n",
       "3                  No                No                   No           4   \n",
       "4                  No                No                   No           4   \n",
       "\n",
       "   Aggregate rating  Rating color Rating text Votes  \n",
       "0               4.8    Dark Green   Excellent   314  \n",
       "1               4.5    Dark Green   Excellent   591  \n",
       "2               4.4         Green   Very Good   270  \n",
       "3               4.9    Dark Green   Excellent   365  \n",
       "4               4.8    Dark Green   Excellent   229  \n",
       "\n",
       "[5 rows x 21 columns]"
      ]
     },
     "execution_count": 4,
     "metadata": {},
     "output_type": "execute_result"
    }
   ],
   "source": [
    "#Displaying first 5 records\n",
    "df.head()"
   ]
  },
  {
   "cell_type": "code",
   "execution_count": 5,
   "id": "595815b1",
   "metadata": {},
   "outputs": [
    {
     "data": {
      "text/html": [
       "<div>\n",
       "<style scoped>\n",
       "    .dataframe tbody tr th:only-of-type {\n",
       "        vertical-align: middle;\n",
       "    }\n",
       "\n",
       "    .dataframe tbody tr th {\n",
       "        vertical-align: top;\n",
       "    }\n",
       "\n",
       "    .dataframe thead th {\n",
       "        text-align: right;\n",
       "    }\n",
       "</style>\n",
       "<table border=\"1\" class=\"dataframe\">\n",
       "  <thead>\n",
       "    <tr style=\"text-align: right;\">\n",
       "      <th></th>\n",
       "      <th>Restaurant ID</th>\n",
       "      <th>Restaurant Name</th>\n",
       "      <th>Country Code</th>\n",
       "      <th>City</th>\n",
       "      <th>Address</th>\n",
       "      <th>Locality</th>\n",
       "      <th>Locality Verbose</th>\n",
       "      <th>Longitude</th>\n",
       "      <th>Latitude</th>\n",
       "      <th>Cuisines</th>\n",
       "      <th>...</th>\n",
       "      <th>Currency</th>\n",
       "      <th>Has Table booking</th>\n",
       "      <th>Has Online delivery</th>\n",
       "      <th>Is delivering now</th>\n",
       "      <th>Switch to order menu</th>\n",
       "      <th>Price range</th>\n",
       "      <th>Aggregate rating</th>\n",
       "      <th>Rating color</th>\n",
       "      <th>Rating text</th>\n",
       "      <th>Votes</th>\n",
       "    </tr>\n",
       "  </thead>\n",
       "  <tbody>\n",
       "    <tr>\n",
       "      <th>9546</th>\n",
       "      <td>5915730</td>\n",
       "      <td>Naml۱ Gurme</td>\n",
       "      <td>208</td>\n",
       "      <td>��stanbul</td>\n",
       "      <td>Kemanke�� Karamustafa Pa��a Mahallesi, R۱ht۱m ...</td>\n",
       "      <td>Karak�_y</td>\n",
       "      <td>Karak�_y, ��stanbul</td>\n",
       "      <td>28.977392</td>\n",
       "      <td>41.022793</td>\n",
       "      <td>Turkish</td>\n",
       "      <td>...</td>\n",
       "      <td>Turkish Lira(TL)</td>\n",
       "      <td>No</td>\n",
       "      <td>No</td>\n",
       "      <td>No</td>\n",
       "      <td>No</td>\n",
       "      <td>3</td>\n",
       "      <td>4.1</td>\n",
       "      <td>Green</td>\n",
       "      <td>Very Good</td>\n",
       "      <td>788</td>\n",
       "    </tr>\n",
       "    <tr>\n",
       "      <th>9547</th>\n",
       "      <td>5908749</td>\n",
       "      <td>Ceviz A��ac۱</td>\n",
       "      <td>208</td>\n",
       "      <td>��stanbul</td>\n",
       "      <td>Ko��uyolu Mahallesi, Muhittin ��st�_nda�� Cadd...</td>\n",
       "      <td>Ko��uyolu</td>\n",
       "      <td>Ko��uyolu, ��stanbul</td>\n",
       "      <td>29.041297</td>\n",
       "      <td>41.009847</td>\n",
       "      <td>World Cuisine, Patisserie, Cafe</td>\n",
       "      <td>...</td>\n",
       "      <td>Turkish Lira(TL)</td>\n",
       "      <td>No</td>\n",
       "      <td>No</td>\n",
       "      <td>No</td>\n",
       "      <td>No</td>\n",
       "      <td>3</td>\n",
       "      <td>4.2</td>\n",
       "      <td>Green</td>\n",
       "      <td>Very Good</td>\n",
       "      <td>1034</td>\n",
       "    </tr>\n",
       "    <tr>\n",
       "      <th>9548</th>\n",
       "      <td>5915807</td>\n",
       "      <td>Huqqa</td>\n",
       "      <td>208</td>\n",
       "      <td>��stanbul</td>\n",
       "      <td>Kuru�_e��me Mahallesi, Muallim Naci Caddesi, N...</td>\n",
       "      <td>Kuru�_e��me</td>\n",
       "      <td>Kuru�_e��me, ��stanbul</td>\n",
       "      <td>29.034640</td>\n",
       "      <td>41.055817</td>\n",
       "      <td>Italian, World Cuisine</td>\n",
       "      <td>...</td>\n",
       "      <td>Turkish Lira(TL)</td>\n",
       "      <td>No</td>\n",
       "      <td>No</td>\n",
       "      <td>No</td>\n",
       "      <td>No</td>\n",
       "      <td>4</td>\n",
       "      <td>3.7</td>\n",
       "      <td>Yellow</td>\n",
       "      <td>Good</td>\n",
       "      <td>661</td>\n",
       "    </tr>\n",
       "    <tr>\n",
       "      <th>9549</th>\n",
       "      <td>5916112</td>\n",
       "      <td>A���k Kahve</td>\n",
       "      <td>208</td>\n",
       "      <td>��stanbul</td>\n",
       "      <td>Kuru�_e��me Mahallesi, Muallim Naci Caddesi, N...</td>\n",
       "      <td>Kuru�_e��me</td>\n",
       "      <td>Kuru�_e��me, ��stanbul</td>\n",
       "      <td>29.036019</td>\n",
       "      <td>41.057979</td>\n",
       "      <td>Restaurant Cafe</td>\n",
       "      <td>...</td>\n",
       "      <td>Turkish Lira(TL)</td>\n",
       "      <td>No</td>\n",
       "      <td>No</td>\n",
       "      <td>No</td>\n",
       "      <td>No</td>\n",
       "      <td>4</td>\n",
       "      <td>4.0</td>\n",
       "      <td>Green</td>\n",
       "      <td>Very Good</td>\n",
       "      <td>901</td>\n",
       "    </tr>\n",
       "    <tr>\n",
       "      <th>9550</th>\n",
       "      <td>5927402</td>\n",
       "      <td>Walter's Coffee Roastery</td>\n",
       "      <td>208</td>\n",
       "      <td>��stanbul</td>\n",
       "      <td>Cafea��a Mahallesi, Bademalt۱ Sokak, No 21/B, ...</td>\n",
       "      <td>Moda</td>\n",
       "      <td>Moda, ��stanbul</td>\n",
       "      <td>29.026016</td>\n",
       "      <td>40.984776</td>\n",
       "      <td>Cafe</td>\n",
       "      <td>...</td>\n",
       "      <td>Turkish Lira(TL)</td>\n",
       "      <td>No</td>\n",
       "      <td>No</td>\n",
       "      <td>No</td>\n",
       "      <td>No</td>\n",
       "      <td>2</td>\n",
       "      <td>4.0</td>\n",
       "      <td>Green</td>\n",
       "      <td>Very Good</td>\n",
       "      <td>591</td>\n",
       "    </tr>\n",
       "  </tbody>\n",
       "</table>\n",
       "<p>5 rows × 21 columns</p>\n",
       "</div>"
      ],
      "text/plain": [
       "      Restaurant ID           Restaurant Name  Country Code       City  \\\n",
       "9546        5915730               Naml۱ Gurme           208  ��stanbul   \n",
       "9547        5908749              Ceviz A��ac۱           208  ��stanbul   \n",
       "9548        5915807                     Huqqa           208  ��stanbul   \n",
       "9549        5916112               A���k Kahve           208  ��stanbul   \n",
       "9550        5927402  Walter's Coffee Roastery           208  ��stanbul   \n",
       "\n",
       "                                                Address     Locality  \\\n",
       "9546  Kemanke�� Karamustafa Pa��a Mahallesi, R۱ht۱m ...     Karak�_y   \n",
       "9547  Ko��uyolu Mahallesi, Muhittin ��st�_nda�� Cadd...    Ko��uyolu   \n",
       "9548  Kuru�_e��me Mahallesi, Muallim Naci Caddesi, N...  Kuru�_e��me   \n",
       "9549  Kuru�_e��me Mahallesi, Muallim Naci Caddesi, N...  Kuru�_e��me   \n",
       "9550  Cafea��a Mahallesi, Bademalt۱ Sokak, No 21/B, ...         Moda   \n",
       "\n",
       "            Locality Verbose  Longitude   Latitude  \\\n",
       "9546     Karak�_y, ��stanbul  28.977392  41.022793   \n",
       "9547    Ko��uyolu, ��stanbul  29.041297  41.009847   \n",
       "9548  Kuru�_e��me, ��stanbul  29.034640  41.055817   \n",
       "9549  Kuru�_e��me, ��stanbul  29.036019  41.057979   \n",
       "9550         Moda, ��stanbul  29.026016  40.984776   \n",
       "\n",
       "                             Cuisines  ...          Currency  \\\n",
       "9546                          Turkish  ...  Turkish Lira(TL)   \n",
       "9547  World Cuisine, Patisserie, Cafe  ...  Turkish Lira(TL)   \n",
       "9548           Italian, World Cuisine  ...  Turkish Lira(TL)   \n",
       "9549                  Restaurant Cafe  ...  Turkish Lira(TL)   \n",
       "9550                             Cafe  ...  Turkish Lira(TL)   \n",
       "\n",
       "     Has Table booking Has Online delivery Is delivering now  \\\n",
       "9546                No                  No                No   \n",
       "9547                No                  No                No   \n",
       "9548                No                  No                No   \n",
       "9549                No                  No                No   \n",
       "9550                No                  No                No   \n",
       "\n",
       "     Switch to order menu Price range  Aggregate rating  Rating color  \\\n",
       "9546                   No           3               4.1         Green   \n",
       "9547                   No           3               4.2         Green   \n",
       "9548                   No           4               3.7        Yellow   \n",
       "9549                   No           4               4.0         Green   \n",
       "9550                   No           2               4.0         Green   \n",
       "\n",
       "     Rating text Votes  \n",
       "9546   Very Good   788  \n",
       "9547   Very Good  1034  \n",
       "9548        Good   661  \n",
       "9549   Very Good   901  \n",
       "9550   Very Good   591  \n",
       "\n",
       "[5 rows x 21 columns]"
      ]
     },
     "execution_count": 5,
     "metadata": {},
     "output_type": "execute_result"
    }
   ],
   "source": [
    "#Displaying last 5 records\n",
    "df.tail()"
   ]
  },
  {
   "cell_type": "code",
   "execution_count": null,
   "id": "639d0d90",
   "metadata": {},
   "outputs": [],
   "source": []
  },
  {
   "cell_type": "markdown",
   "id": "bdec37db",
   "metadata": {},
   "source": [
    "# Columns"
   ]
  },
  {
   "cell_type": "code",
   "execution_count": 6,
   "id": "7e9cbea5",
   "metadata": {},
   "outputs": [
    {
     "data": {
      "text/plain": [
       "Index(['Restaurant ID', 'Restaurant Name', 'Country Code', 'City', 'Address',\n",
       "       'Locality', 'Locality Verbose', 'Longitude', 'Latitude', 'Cuisines',\n",
       "       'Average Cost for two', 'Currency', 'Has Table booking',\n",
       "       'Has Online delivery', 'Is delivering now', 'Switch to order menu',\n",
       "       'Price range', 'Aggregate rating', 'Rating color', 'Rating text',\n",
       "       'Votes'],\n",
       "      dtype='object')"
      ]
     },
     "execution_count": 6,
     "metadata": {},
     "output_type": "execute_result"
    }
   ],
   "source": [
    "df.columns"
   ]
  },
  {
   "cell_type": "code",
   "execution_count": 7,
   "id": "38c61271",
   "metadata": {},
   "outputs": [
    {
     "data": {
      "text/plain": [
       "Index(['Restaurant Name', 'Country Code', 'City', 'Address', 'Locality',\n",
       "       'Locality Verbose', 'Longitude', 'Latitude', 'Cuisines',\n",
       "       'Average Cost for two', 'Currency', 'Has Table booking',\n",
       "       'Has Online delivery', 'Is delivering now', 'Switch to order menu',\n",
       "       'Price range', 'Aggregate rating', 'Rating color', 'Rating text',\n",
       "       'Votes'],\n",
       "      dtype='object')"
      ]
     },
     "execution_count": 7,
     "metadata": {},
     "output_type": "execute_result"
    }
   ],
   "source": [
    "#droping 'Restaurant ID' bec it's of no use\n",
    "df = df.drop(['Restaurant ID'], axis=1)\n",
    "df.columns"
   ]
  },
  {
   "cell_type": "code",
   "execution_count": null,
   "id": "499dfdcd",
   "metadata": {},
   "outputs": [],
   "source": []
  },
  {
   "cell_type": "markdown",
   "id": "b0046b20",
   "metadata": {},
   "source": [
    "## Data Types"
   ]
  },
  {
   "cell_type": "code",
   "execution_count": 8,
   "id": "15f9cb46",
   "metadata": {},
   "outputs": [
    {
     "name": "stdout",
     "output_type": "stream",
     "text": [
      "<class 'pandas.core.frame.DataFrame'>\n",
      "RangeIndex: 9551 entries, 0 to 9550\n",
      "Data columns (total 20 columns):\n",
      " #   Column                Non-Null Count  Dtype  \n",
      "---  ------                --------------  -----  \n",
      " 0   Restaurant Name       9551 non-null   object \n",
      " 1   Country Code          9551 non-null   int64  \n",
      " 2   City                  9551 non-null   object \n",
      " 3   Address               9551 non-null   object \n",
      " 4   Locality              9551 non-null   object \n",
      " 5   Locality Verbose      9551 non-null   object \n",
      " 6   Longitude             9551 non-null   float64\n",
      " 7   Latitude              9551 non-null   float64\n",
      " 8   Cuisines              9542 non-null   object \n",
      " 9   Average Cost for two  9551 non-null   int64  \n",
      " 10  Currency              9551 non-null   object \n",
      " 11  Has Table booking     9551 non-null   object \n",
      " 12  Has Online delivery   9551 non-null   object \n",
      " 13  Is delivering now     9551 non-null   object \n",
      " 14  Switch to order menu  9551 non-null   object \n",
      " 15  Price range           9551 non-null   int64  \n",
      " 16  Aggregate rating      9551 non-null   float64\n",
      " 17  Rating color          9551 non-null   object \n",
      " 18  Rating text           9551 non-null   object \n",
      " 19  Votes                 9551 non-null   int64  \n",
      "dtypes: float64(3), int64(4), object(13)\n",
      "memory usage: 1.5+ MB\n"
     ]
    }
   ],
   "source": [
    "df.info()"
   ]
  },
  {
   "cell_type": "code",
   "execution_count": 9,
   "id": "c20c5d32",
   "metadata": {},
   "outputs": [],
   "source": [
    "# We have 13-Object, 3-float64 and 4-int64"
   ]
  },
  {
   "cell_type": "code",
   "execution_count": 10,
   "id": "e613aafb",
   "metadata": {},
   "outputs": [
    {
     "data": {
      "text/plain": [
       "Restaurant Name          object\n",
       "Country Code              int64\n",
       "City                     object\n",
       "Address                  object\n",
       "Locality                 object\n",
       "Locality Verbose         object\n",
       "Longitude               float64\n",
       "Latitude                float64\n",
       "Cuisines                 object\n",
       "Average Cost for two      int64\n",
       "Currency                 object\n",
       "Has Table booking        object\n",
       "Has Online delivery      object\n",
       "Is delivering now        object\n",
       "Switch to order menu     object\n",
       "Price range               int64\n",
       "Aggregate rating        float64\n",
       "Rating color             object\n",
       "Rating text              object\n",
       "Votes                     int64\n",
       "dtype: object"
      ]
     },
     "execution_count": 10,
     "metadata": {},
     "output_type": "execute_result"
    }
   ],
   "source": [
    "#Another way of checking data types..\n",
    "df.dtypes"
   ]
  },
  {
   "cell_type": "markdown",
   "id": "1f261438",
   "metadata": {},
   "source": [
    "## Seperating categorical column and  numerical column\n"
   ]
  },
  {
   "cell_type": "code",
   "execution_count": 11,
   "id": "17d50ef2",
   "metadata": {},
   "outputs": [
    {
     "name": "stdout",
     "output_type": "stream",
     "text": [
      "Categorical column =  Index(['Restaurant Name', 'City', 'Address', 'Locality', 'Locality Verbose',\n",
      "       'Cuisines', 'Currency', 'Has Table booking', 'Has Online delivery',\n",
      "       'Is delivering now', 'Switch to order menu', 'Rating color',\n",
      "       'Rating text'],\n",
      "      dtype='object')\n",
      "Numerical column   =  Index(['Country Code', 'Longitude', 'Latitude', 'Average Cost for two',\n",
      "       'Price range', 'Aggregate rating', 'Votes'],\n",
      "      dtype='object')\n"
     ]
    }
   ],
   "source": [
    "categorical = df.select_dtypes(include=['object']).columns\n",
    "numerical   = df.select_dtypes(exclude=['object']).columns\n",
    "print('Categorical column = ',categorical)\n",
    "print('Numerical column   = ',numerical)"
   ]
  },
  {
   "cell_type": "code",
   "execution_count": null,
   "id": "96ee0272",
   "metadata": {},
   "outputs": [],
   "source": []
  },
  {
   "cell_type": "code",
   "execution_count": null,
   "id": "784a3dcf",
   "metadata": {},
   "outputs": [],
   "source": []
  },
  {
   "cell_type": "markdown",
   "id": "c41b3695",
   "metadata": {},
   "source": [
    "## Missing Values"
   ]
  },
  {
   "cell_type": "code",
   "execution_count": 12,
   "id": "8ac9cdbe",
   "metadata": {},
   "outputs": [
    {
     "data": {
      "text/plain": [
       "Restaurant Name         0\n",
       "Country Code            0\n",
       "City                    0\n",
       "Address                 0\n",
       "Locality                0\n",
       "Locality Verbose        0\n",
       "Longitude               0\n",
       "Latitude                0\n",
       "Cuisines                9\n",
       "Average Cost for two    0\n",
       "Currency                0\n",
       "Has Table booking       0\n",
       "Has Online delivery     0\n",
       "Is delivering now       0\n",
       "Switch to order menu    0\n",
       "Price range             0\n",
       "Aggregate rating        0\n",
       "Rating color            0\n",
       "Rating text             0\n",
       "Votes                   0\n",
       "dtype: int64"
      ]
     },
     "execution_count": 12,
     "metadata": {},
     "output_type": "execute_result"
    }
   ],
   "source": [
    "df.isnull().sum()"
   ]
  },
  {
   "cell_type": "code",
   "execution_count": 13,
   "id": "d085906f",
   "metadata": {},
   "outputs": [],
   "source": [
    "# Only one column i.e., 'Cuisine' has null values"
   ]
  },
  {
   "cell_type": "code",
   "execution_count": 14,
   "id": "8b3ddf86",
   "metadata": {},
   "outputs": [
    {
     "data": {
      "image/png": "[encoded data removed]",
      "text/plain": [
       "<Figure size 1000x600 with 2 Axes>"
      ]
     },
     "metadata": {},
     "output_type": "display_data"
    }
   ],
   "source": [
    "# Visualize missing values\n",
    "import pandas as pd\n",
    "import matplotlib.pyplot as plt\n",
    "import seaborn as sns\n",
    "\n",
    "plt.figure(figsize=(10, 6))\n",
    "sns.heatmap(df.isnull(), cbar=True, cmap='viridis')\n",
    "plt.title('Missing Values Heatmap')\n",
    "plt.show()"
   ]
  },
  {
   "cell_type": "code",
   "execution_count": null,
   "id": "32451b84",
   "metadata": {},
   "outputs": [],
   "source": []
  },
  {
   "cell_type": "code",
   "execution_count": 15,
   "id": "7eeaa2c7",
   "metadata": {},
   "outputs": [],
   "source": [
    "# fill the missing value with mode because it is categorical column\n",
    "\n",
    "df['Cuisines'] = df['Cuisines'].fillna(df['Cuisines'].mode()[0])"
   ]
  },
  {
   "cell_type": "code",
   "execution_count": 16,
   "id": "8b52d6a6",
   "metadata": {},
   "outputs": [
    {
     "data": {
      "text/plain": [
       "Restaurant Name         0\n",
       "Country Code            0\n",
       "City                    0\n",
       "Address                 0\n",
       "Locality                0\n",
       "Locality Verbose        0\n",
       "Longitude               0\n",
       "Latitude                0\n",
       "Cuisines                0\n",
       "Average Cost for two    0\n",
       "Currency                0\n",
       "Has Table booking       0\n",
       "Has Online delivery     0\n",
       "Is delivering now       0\n",
       "Switch to order menu    0\n",
       "Price range             0\n",
       "Aggregate rating        0\n",
       "Rating color            0\n",
       "Rating text             0\n",
       "Votes                   0\n",
       "dtype: int64"
      ]
     },
     "execution_count": 16,
     "metadata": {},
     "output_type": "execute_result"
    }
   ],
   "source": [
    "#Again check any missing are available or not\n",
    "\n",
    "df.isnull().sum()"
   ]
  },
  {
   "cell_type": "code",
   "execution_count": 17,
   "id": "71e28d3b",
   "metadata": {},
   "outputs": [],
   "source": [
    "#no nulls now"
   ]
  },
  {
   "cell_type": "code",
   "execution_count": null,
   "id": "154216d3",
   "metadata": {},
   "outputs": [],
   "source": []
  },
  {
   "cell_type": "markdown",
   "id": "23d3fac4",
   "metadata": {},
   "source": [
    "## Statistical Overview"
   ]
  },
  {
   "cell_type": "code",
   "execution_count": 18,
   "id": "d0e902fd",
   "metadata": {},
   "outputs": [
    {
     "data": {
      "text/html": [
       "<div>\n",
       "<style scoped>\n",
       "    .dataframe tbody tr th:only-of-type {\n",
       "        vertical-align: middle;\n",
       "    }\n",
       "\n",
       "    .dataframe tbody tr th {\n",
       "        vertical-align: top;\n",
       "    }\n",
       "\n",
       "    .dataframe thead th {\n",
       "        text-align: right;\n",
       "    }\n",
       "</style>\n",
       "<table border=\"1\" class=\"dataframe\">\n",
       "  <thead>\n",
       "    <tr style=\"text-align: right;\">\n",
       "      <th></th>\n",
       "      <th>Country Code</th>\n",
       "      <th>Longitude</th>\n",
       "      <th>Latitude</th>\n",
       "      <th>Average Cost for two</th>\n",
       "      <th>Price range</th>\n",
       "      <th>Aggregate rating</th>\n",
       "      <th>Votes</th>\n",
       "    </tr>\n",
       "  </thead>\n",
       "  <tbody>\n",
       "    <tr>\n",
       "      <th>count</th>\n",
       "      <td>9551.000000</td>\n",
       "      <td>9551.000000</td>\n",
       "      <td>9551.000000</td>\n",
       "      <td>9551.000000</td>\n",
       "      <td>9551.000000</td>\n",
       "      <td>9551.000000</td>\n",
       "      <td>9551.000000</td>\n",
       "    </tr>\n",
       "    <tr>\n",
       "      <th>mean</th>\n",
       "      <td>18.365616</td>\n",
       "      <td>64.126574</td>\n",
       "      <td>25.854381</td>\n",
       "      <td>1199.210763</td>\n",
       "      <td>1.804837</td>\n",
       "      <td>2.666370</td>\n",
       "      <td>156.909748</td>\n",
       "    </tr>\n",
       "    <tr>\n",
       "      <th>std</th>\n",
       "      <td>56.750546</td>\n",
       "      <td>41.467058</td>\n",
       "      <td>11.007935</td>\n",
       "      <td>16121.183073</td>\n",
       "      <td>0.905609</td>\n",
       "      <td>1.516378</td>\n",
       "      <td>430.169145</td>\n",
       "    </tr>\n",
       "    <tr>\n",
       "      <th>min</th>\n",
       "      <td>1.000000</td>\n",
       "      <td>-157.948486</td>\n",
       "      <td>-41.330428</td>\n",
       "      <td>0.000000</td>\n",
       "      <td>1.000000</td>\n",
       "      <td>0.000000</td>\n",
       "      <td>0.000000</td>\n",
       "    </tr>\n",
       "    <tr>\n",
       "      <th>25%</th>\n",
       "      <td>1.000000</td>\n",
       "      <td>77.081343</td>\n",
       "      <td>28.478713</td>\n",
       "      <td>250.000000</td>\n",
       "      <td>1.000000</td>\n",
       "      <td>2.500000</td>\n",
       "      <td>5.000000</td>\n",
       "    </tr>\n",
       "    <tr>\n",
       "      <th>50%</th>\n",
       "      <td>1.000000</td>\n",
       "      <td>77.191964</td>\n",
       "      <td>28.570469</td>\n",
       "      <td>400.000000</td>\n",
       "      <td>2.000000</td>\n",
       "      <td>3.200000</td>\n",
       "      <td>31.000000</td>\n",
       "    </tr>\n",
       "    <tr>\n",
       "      <th>75%</th>\n",
       "      <td>1.000000</td>\n",
       "      <td>77.282006</td>\n",
       "      <td>28.642758</td>\n",
       "      <td>700.000000</td>\n",
       "      <td>2.000000</td>\n",
       "      <td>3.700000</td>\n",
       "      <td>131.000000</td>\n",
       "    </tr>\n",
       "    <tr>\n",
       "      <th>max</th>\n",
       "      <td>216.000000</td>\n",
       "      <td>174.832089</td>\n",
       "      <td>55.976980</td>\n",
       "      <td>800000.000000</td>\n",
       "      <td>4.000000</td>\n",
       "      <td>4.900000</td>\n",
       "      <td>10934.000000</td>\n",
       "    </tr>\n",
       "  </tbody>\n",
       "</table>\n",
       "</div>"
      ],
      "text/plain": [
       "       Country Code    Longitude     Latitude  Average Cost for two  \\\n",
       "count   9551.000000  9551.000000  9551.000000           9551.000000   \n",
       "mean      18.365616    64.126574    25.854381           1199.210763   \n",
       "std       56.750546    41.467058    11.007935          16121.183073   \n",
       "min        1.000000  -157.948486   -41.330428              0.000000   \n",
       "25%        1.000000    77.081343    28.478713            250.000000   \n",
       "50%        1.000000    77.191964    28.570469            400.000000   \n",
       "75%        1.000000    77.282006    28.642758            700.000000   \n",
       "max      216.000000   174.832089    55.976980         800000.000000   \n",
       "\n",
       "       Price range  Aggregate rating         Votes  \n",
       "count  9551.000000       9551.000000   9551.000000  \n",
       "mean      1.804837          2.666370    156.909748  \n",
       "std       0.905609          1.516378    430.169145  \n",
       "min       1.000000          0.000000      0.000000  \n",
       "25%       1.000000          2.500000      5.000000  \n",
       "50%       2.000000          3.200000     31.000000  \n",
       "75%       2.000000          3.700000    131.000000  \n",
       "max       4.000000          4.900000  10934.000000  "
      ]
     },
     "execution_count": 18,
     "metadata": {},
     "output_type": "execute_result"
    }
   ],
   "source": [
    "#descriptive statistics\n",
    "df.describe()"
   ]
  },
  {
   "cell_type": "code",
   "execution_count": null,
   "id": "7f05c30a",
   "metadata": {},
   "outputs": [],
   "source": []
  },
  {
   "cell_type": "markdown",
   "id": "9c55cbba",
   "metadata": {},
   "source": [
    "## Duplicate Data"
   ]
  },
  {
   "cell_type": "code",
   "execution_count": 19,
   "id": "db0ac676",
   "metadata": {},
   "outputs": [
    {
     "name": "stdout",
     "output_type": "stream",
     "text": [
      "Total duplicate alues are =  0\n"
     ]
    }
   ],
   "source": [
    "print(\"Total duplicate alues are = \", df.duplicated().sum())\n"
   ]
  },
  {
   "cell_type": "code",
   "execution_count": null,
   "id": "57638393",
   "metadata": {},
   "outputs": [],
   "source": []
  },
  {
   "cell_type": "code",
   "execution_count": null,
   "id": "d72cc3fa",
   "metadata": {},
   "outputs": [],
   "source": []
  },
  {
   "cell_type": "code",
   "execution_count": null,
   "id": "1f2aa289",
   "metadata": {},
   "outputs": [],
   "source": []
  },
  {
   "cell_type": "markdown",
   "id": "3bfc5c9b",
   "metadata": {},
   "source": [
    "# LEVEL 2"
   ]
  },
  {
   "cell_type": "markdown",
   "id": "23733566",
   "metadata": {},
   "source": [
    "# Task1: Restaurant Ratings\n",
    "1. Analyze the distribution of aggregate ratings and determine the most common rating range.\n",
    "2. Calculate the average number of votes received by restaurants."
   ]
  },
  {
   "cell_type": "code",
   "execution_count": 36,
   "id": "b14ee4bb",
   "metadata": {},
   "outputs": [
    {
     "data": {
      "text/plain": [
       "0    4.8\n",
       "1    4.5\n",
       "2    4.4\n",
       "3    4.9\n",
       "4    4.8\n",
       "Name: Aggregate rating, dtype: float64"
      ]
     },
     "execution_count": 36,
     "metadata": {},
     "output_type": "execute_result"
    }
   ],
   "source": [
    "#Task 1.1 - Analyze the distribution of aggregate ratings and determine the most common rating range.\n",
    "df['Aggregate rating'].head()\n"
   ]
  },
  {
   "cell_type": "code",
   "execution_count": 38,
   "id": "76799a0d",
   "metadata": {},
   "outputs": [
    {
     "data": {
      "image/png": "[encoded data removed]",
      "text/plain": [
       "<Figure size 640x480 with 1 Axes>"
      ]
     },
     "metadata": {},
     "output_type": "display_data"
    },
    {
     "name": "stdout",
     "output_type": "stream",
     "text": [
      "The most common rating range is =  0.0\n"
     ]
    }
   ],
   "source": [
    "# Ploting the distribution of aggregate ratings\n",
    "df['Aggregate rating'].plot(kind='hist', bins=10, color='#808000', edgecolor='black')\n",
    "plt.title('Distribution of Aggregate Ratings')\n",
    "plt.xlabel('Aggregate Rating')\n",
    "plt.ylabel('Number of Restaurants')\n",
    "plt.show()\n",
    "\n",
    "# Determining the most common rating range\n",
    "most_common_rating = df['Aggregate rating'].mode()[0]\n",
    "print(\"The most common rating range is = \", most_common_rating)\n"
   ]
  },
  {
   "cell_type": "code",
   "execution_count": 39,
   "id": "533a6d9c",
   "metadata": {},
   "outputs": [
    {
     "name": "stdout",
     "output_type": "stream",
     "text": [
      "Average number of votes received by restaurants are =  156.909747670401\n"
     ]
    }
   ],
   "source": [
    "#Task 1.2 - Calculate the average number of votes received by restaurants.avg_votes = df['Votes'].mean()\n",
    "print(\"Average number of votes received by restaurants are = \", avg_votes)"
   ]
  },
  {
   "cell_type": "code",
   "execution_count": null,
   "id": "582833e9",
   "metadata": {},
   "outputs": [],
   "source": []
  },
  {
   "cell_type": "markdown",
   "id": "dc4a7172",
   "metadata": {},
   "source": [
    "# Task2: Cuisine Combination\n",
    "1. Identify the most common combinations of cuisines in the dataset.\n",
    "2. Determine if certain cuisine combinations tend to have higher ratings."
   ]
  },
  {
   "cell_type": "code",
   "execution_count": 45,
   "id": "4a75d734",
   "metadata": {},
   "outputs": [
    {
     "data": {
      "image/png": "[encoded data removed]",
      "text/plain": [
       "<Figure size 1000x600 with 1 Axes>"
      ]
     },
     "metadata": {},
     "output_type": "display_data"
    }
   ],
   "source": [
    "# Task 2.1 -  Identify the most common combinations of cuisines\n",
    "\n",
    "from collections import Counter\n",
    "\n",
    "#Since the cuisine combinations are stored as tuples, we need to convert them into strings for visualization.\n",
    "# So spliting the 'Cuisines' into combinations and thencounting the most common ones\n",
    "cuisine_combinations = df['Cuisines'].str.split(', ').apply(tuple)\n",
    "most_common_combinations = Counter(cuisine_combinations).most_common(10)\n",
    "\n",
    "# Separating the combinations and their counts for plotting\n",
    "combinations, counts = zip(*most_common_combinations)\n",
    "\n",
    "# Converting tuples of cuisine combinations into strings\n",
    "combinations_str = [' & '.join(cuisine) for cuisine in combinations]\n",
    "\n",
    "# Here we will use a color map to generate different colors automatically instead of using single color color or specifying each color manually\n",
    "colors = plt.cm.Paired(range(len(combinations_str)))\n",
    "\n",
    "# Ploting the top 10 most common cuisine combinations\n",
    "plt.figure(figsize=(10, 6))\n",
    "plt.barh(combinations_str, counts, color=colors)\n",
    "plt.xlabel('Number of Restaurants')\n",
    "plt.title('Top 10 Most Common Cuisine Combinations')\n",
    "plt.show()\n"
   ]
  },
  {
   "cell_type": "markdown",
   "id": "57a82b6b",
   "metadata": {},
   "source": [
    "- plt.cm.Paired() is a color map that provides a set of distinct colors. You can use it to generate a range of colors based on the number of bars.\n",
    "\n",
    "- range(len(combinations_str)) ensures that each bar gets a different color from the color map automatically.\n",
    "\n",
    "- combinations_str converts each tuple of cuisine combinations into a single string using ' & '.join(cuisine). This makes the data compatible for plotting."
   ]
  },
  {
   "cell_type": "code",
   "execution_count": 47,
   "id": "3bf384a1",
   "metadata": {},
   "outputs": [
    {
     "name": "stdout",
     "output_type": "stream",
     "text": [
      "Most common cuisine combinations:\n",
      " North Indian             945\n",
      "North Indian, Chinese    511\n",
      "Chinese                  354\n",
      "Fast Food                354\n",
      "North Indian, Mughlai    334\n",
      "Name: Cuisines, dtype: int64\n"
     ]
    }
   ],
   "source": [
    "# Another way of doing it\n",
    "common_cuisine_combinations = df['Cuisines'].value_counts().head(5)\n",
    "print(\"Most common cuisine combinations:\\n\", common_cuisine_combinations)"
   ]
  },
  {
   "cell_type": "code",
   "execution_count": 48,
   "id": "2f9f3d6f",
   "metadata": {},
   "outputs": [
    {
     "name": "stdout",
     "output_type": "stream",
     "text": [
      "\n",
      "Cuisine combinations with the highest average ratings:\n",
      " Cuisines\n",
      "Italian, Deli              4.9\n",
      "Hawaiian, Seafood          4.9\n",
      "American, Sandwich, Tea    4.9\n",
      "Continental, Indian        4.9\n",
      "European, Asian, Indian    4.9\n",
      "Name: Aggregate rating, dtype: float64\n"
     ]
    }
   ],
   "source": [
    "# Task 2.2 - Determine if certain cuisine combinations tend to have higher ratings\n",
    "cuisine_rating = df.groupby('Cuisines')['Aggregate rating'].mean().sort_values(ascending=False).head(5)\n",
    "print(\"\\nCuisine combinations with the highest average ratings:\\n\", cuisine_rating)"
   ]
  },
  {
   "cell_type": "code",
   "execution_count": null,
   "id": "ce245daf",
   "metadata": {},
   "outputs": [],
   "source": []
  },
  {
   "cell_type": "markdown",
   "id": "38b7dfcb",
   "metadata": {},
   "source": [
    "# Task3: Geographic Analysis\n",
    "1. Plot the locations of restaurants on a map using longitude and latitude coordinates.\n",
    "2. Identify any patterns or clusters of restaurants in specific areas."
   ]
  },
  {
   "cell_type": "code",
   "execution_count": 61,
   "id": "d9913f6b",
   "metadata": {},
   "outputs": [
    {
     "name": "stdout",
     "output_type": "stream",
     "text": [
      "Collecting cartopy\n",
      "  Downloading Cartopy-0.23.0-cp39-cp39-win_amd64.whl (10.9 MB)\n",
      "     -------------------------------------- 10.9/10.9 MB 334.7 kB/s eta 0:00:00\n",
      "Requirement already satisfied: matplotlib>=3.5 in c:\\users\\aabshaar\\anaconda3\\lib\\site-packages (from cartopy) (3.5.2)\n",
      "Collecting shapely>=1.7\n",
      "  Downloading shapely-2.0.6-cp39-cp39-win_amd64.whl (1.4 MB)\n",
      "     ---------------------------------------- 1.4/1.4 MB 430.5 kB/s eta 0:00:00\n",
      "Requirement already satisfied: packaging>=20 in c:\\users\\aabshaar\\anaconda3\\lib\\site-packages (from cartopy) (21.3)\n",
      "Requirement already satisfied: numpy>=1.21 in c:\\users\\aabshaar\\anaconda3\\lib\\site-packages (from cartopy) (1.21.5)\n",
      "Collecting pyshp>=2.3\n",
      "  Downloading pyshp-2.3.1-py2.py3-none-any.whl (46 kB)\n",
      "     ---------------------------------------- 46.5/46.5 kB 1.2 MB/s eta 0:00:00\n",
      "Collecting pyproj>=3.3.1\n",
      "  Downloading pyproj-3.6.1-cp39-cp39-win_amd64.whl (6.1 MB)\n",
      "     ---------------------------------------- 6.1/6.1 MB 606.1 kB/s eta 0:00:00\n",
      "Requirement already satisfied: pillow>=6.2.0 in c:\\users\\aabshaar\\anaconda3\\lib\\site-packages (from matplotlib>=3.5->cartopy) (9.2.0)\n",
      "Requirement already satisfied: kiwisolver>=1.0.1 in c:\\users\\aabshaar\\anaconda3\\lib\\site-packages (from matplotlib>=3.5->cartopy) (1.4.2)\n",
      "Requirement already satisfied: fonttools>=4.22.0 in c:\\users\\aabshaar\\anaconda3\\lib\\site-packages (from matplotlib>=3.5->cartopy) (4.25.0)\n",
      "Requirement already satisfied: pyparsing>=2.2.1 in c:\\users\\aabshaar\\anaconda3\\lib\\site-packages (from matplotlib>=3.5->cartopy) (3.0.9)\n",
      "Requirement already satisfied: cycler>=0.10 in c:\\users\\aabshaar\\anaconda3\\lib\\site-packages (from matplotlib>=3.5->cartopy) (0.11.0)\n",
      "Requirement already satisfied: python-dateutil>=2.7 in c:\\users\\aabshaar\\anaconda3\\lib\\site-packages (from matplotlib>=3.5->cartopy) (2.8.2)\n",
      "Requirement already satisfied: certifi in c:\\users\\aabshaar\\anaconda3\\lib\\site-packages (from pyproj>=3.3.1->cartopy) (2022.9.14)\n",
      "Requirement already satisfied: six>=1.5 in c:\\users\\aabshaar\\anaconda3\\lib\\site-packages (from python-dateutil>=2.7->matplotlib>=3.5->cartopy) (1.16.0)\n",
      "Installing collected packages: shapely, pyshp, pyproj, cartopy\n",
      "Successfully installed cartopy-0.23.0 pyproj-3.6.1 pyshp-2.3.1 shapely-2.0.6\n",
      "Note: you may need to restart the kernel to use updated packages.\n"
     ]
    },
    {
     "name": "stderr",
     "output_type": "stream",
     "text": [
      "WARNING: Ignoring invalid distribution -pencv-python (c:\\users\\aabshaar\\anaconda3\\lib\\site-packages)\n",
      "WARNING: Ignoring invalid distribution -pencv-python (c:\\users\\aabshaar\\anaconda3\\lib\\site-packages)\n",
      "WARNING: Ignoring invalid distribution -pencv-python (c:\\users\\aabshaar\\anaconda3\\lib\\site-packages)\n",
      "WARNING: Ignoring invalid distribution -pencv-python (c:\\users\\aabshaar\\anaconda3\\lib\\site-packages)\n",
      "WARNING: Ignoring invalid distribution -pencv-python (c:\\users\\aabshaar\\anaconda3\\lib\\site-packages)\n",
      "WARNING: Ignoring invalid distribution -pencv-python (c:\\users\\aabshaar\\anaconda3\\lib\\site-packages)\n",
      "WARNING: Ignoring invalid distribution -pencv-python (c:\\users\\aabshaar\\anaconda3\\lib\\site-packages)\n",
      "WARNING: Ignoring invalid distribution -pencv-python (c:\\users\\aabshaar\\anaconda3\\lib\\site-packages)\n",
      "WARNING: Ignoring invalid distribution -pencv-python (c:\\users\\aabshaar\\anaconda3\\lib\\site-packages)\n",
      "WARNING: Ignoring invalid distribution -pencv-python (c:\\users\\aabshaar\\anaconda3\\lib\\site-packages)\n"
     ]
    }
   ],
   "source": [
    "#pip install cartopy\n"
   ]
  },
  {
   "cell_type": "code",
   "execution_count": 64,
   "id": "54f749b5",
   "metadata": {},
   "outputs": [
    {
     "name": "stderr",
     "output_type": "stream",
     "text": [
      "C:\\Users\\Aabshaar\\anaconda3\\lib\\site-packages\\cartopy\\io\\__init__.py:241: DownloadWarning: Downloading: https://naturalearth.s3.amazonaws.com/110m_physical/ne_110m_coastline.zip\n",
      "  warnings.warn(f'Downloading: {url}', DownloadWarning)\n"
     ]
    },
    {
     "data": {
      "image/png": "[encoded data removed]",
      "text/plain": [
       "<Figure size 1000x600 with 1 Axes>"
      ]
     },
     "metadata": {},
     "output_type": "display_data"
    }
   ],
   "source": [
    "# Task 3.1 - Plot the locations of restaurants on a map using longitude and latitude coordinates.\n",
    "import cartopy.crs as ccrs\n",
    "df.dropna(subset=['Latitude', 'Longitude'], inplace=True)\n",
    "plt.figure(figsize=(10, 6))\n",
    "ax = plt.axes(projection=ccrs.PlateCarree())\n",
    "plt.scatter(df['Longitude'], df['Latitude'], color='red', marker='o', s=10, transform=ccrs.PlateCarree())\n",
    "ax.coastlines()\n",
    "plt.title('Locations of Restaurants')\n",
    "plt.show()"
   ]
  },
  {
   "cell_type": "code",
   "execution_count": 65,
   "id": "8e04b681",
   "metadata": {},
   "outputs": [
    {
     "data": {
      "image/png": "[encoded data removed]",
      "text/plain": [
       "<Figure size 1000x600 with 2 Axes>"
      ]
     },
     "metadata": {},
     "output_type": "display_data"
    }
   ],
   "source": [
    "# Task 3.2 - Identify any patterns or clusters of restaurants in specific areas.\n",
    "from sklearn.cluster import KMeans\n",
    "df.dropna(subset=['Latitude', 'Longitude'], inplace=True)\n",
    "X = df[['Latitude', 'Longitude']]\n",
    "\n",
    "#using KMeans to find clusters\n",
    "k = 5\n",
    "kmeans = KMeans(n_clusters=k, random_state=42)\n",
    "df['cluster'] = kmeans.fit_predict(X)\n",
    "\n",
    "plt.figure(figsize=(10, 6))\n",
    "plt.scatter(df['Longitude'], df['Latitude'], c=df['cluster'], cmap='viridis', s=10)\n",
    "plt.xlabel('Longitude')\n",
    "plt.ylabel('Latitude')\n",
    "plt.title('Clusters of Restaurants')\n",
    "plt.colorbar(label='Cluster')\n",
    "plt.show()"
   ]
  },
  {
   "cell_type": "code",
   "execution_count": null,
   "id": "14400527",
   "metadata": {},
   "outputs": [],
   "source": []
  },
  {
   "cell_type": "markdown",
   "id": "509f10ce",
   "metadata": {},
   "source": [
    "# Task4: Restaurant Chains\n",
    "1. Identify if there are any restaurant chains present in the dataset.\n",
    "2. Analyze the ratings and popularity of different restaurant chains."
   ]
  },
  {
   "cell_type": "code",
   "execution_count": 66,
   "id": "3111ec46",
   "metadata": {},
   "outputs": [
    {
     "name": "stdout",
     "output_type": "stream",
     "text": [
      "Restaurant chains - \n",
      " Cafe Coffee Day       83\n",
      "Domino's Pizza        79\n",
      "Subway                63\n",
      "Green Chick Chop      51\n",
      "McDonald's            48\n",
      "                      ..\n",
      "Town Hall              2\n",
      "Halki Aanch            2\n",
      "Snack Junction         2\n",
      "Delhi Biryani Hut      2\n",
      "Beliram Degchiwala     2\n",
      "Name: Restaurant Name, Length: 734, dtype: int64\n"
     ]
    }
   ],
   "source": [
    "# Task 4.1: Identify if there are any restaurant chains\n",
    "restaurant_chains = df['Restaurant Name'].value_counts().loc[lambda x: x > 1]\n",
    "print(\"Restaurant chains - \\n\" , restaurant_chains)"
   ]
  },
  {
   "cell_type": "code",
   "execution_count": 68,
   "id": "1548b4f1",
   "metadata": {},
   "outputs": [
    {
     "name": "stdout",
     "output_type": "stream",
     "text": [
      "Chain-level metrics:\n",
      "                         Chain  Average Rating  Total Votes\n",
      "182           Talaga Sampireun           4.900         5514\n",
      "587           Silantro Fil-Mex           4.850         1364\n",
      "323    AB's Absolute Barbecues           4.850         3151\n",
      "152  AB's - Absolute Barbecues           4.825        13400\n",
      "277         Naturals Ice Cream           4.800         3094\n",
      "514                   Gymkhana           4.700          328\n",
      "269     The Cheesecake Factory           4.650         3010\n",
      "510                    Dishoom           4.600         1269\n",
      "562          Garota de Ipanema           4.600           59\n",
      "87                     Chili's           4.580         8156\n"
     ]
    }
   ],
   "source": [
    "# Task 4.2: Analyze the ratings and popularity of different restaurant chains\n",
    "restaurant_names = df['Restaurant Name']\n",
    "restaurant_name_counts = restaurant_names.value_counts()\n",
    "chains = restaurant_name_counts[restaurant_name_counts > 1].index.tolist()\n",
    "chain_dataframes = []\n",
    "for chain in chains:\n",
    "    chain_data = df[df['Restaurant Name'] == chain]\n",
    "    average_rating = chain_data['Aggregate rating'].mean()\n",
    "    total_votes = chain_data['Votes'].sum()\n",
    "    chain_metrics = pd.DataFrame({'Chain': [chain], 'Average Rating': [average_rating], 'Total Votes': [total_votes]})\n",
    "    chain_dataframes.append(chain_metrics)\n",
    "chain_metrics = pd.concat(chain_dataframes, ignore_index=True)\n",
    "chain_metrics.sort_values(by='Average Rating', ascending=False, inplace=True)\n",
    "print(\"Chain-level metrics:\")\n",
    "print(chain_metrics.head(10))"
   ]
  },
  {
   "cell_type": "markdown",
   "id": "f8d86541",
   "metadata": {},
   "source": [
    "# --------------------------END OF LEVEL 2 TASKS-----------------------------"
   ]
  }
 ],
 "metadata": {
  "kernelspec": {
   "display_name": "Python 3 (ipykernel)",
   "language": "python",
   "name": "python3"
  },
  "language_info": {
   "codemirror_mode": {
    "name": "ipython",
    "version": 3
   },
   "file_extension": ".py",
   "mimetype": "text/x-python",
   "name": "python",
   "nbconvert_exporter": "python",
   "pygments_lexer": "ipython3",
   "version": "3.9.13"
  }
 },
 "nbformat": 4,
 "nbformat_minor": 5
}
